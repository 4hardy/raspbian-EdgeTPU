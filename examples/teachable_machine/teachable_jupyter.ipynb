{
 "cells": [
  {
   "cell_type": "code",
   "execution_count": null,
   "metadata": {},
   "outputs": [],
   "source": [
    "## imports \n",
    "# camera\n",
    "import io\n",
    "from picamera import PiCamera\n",
    "import time\n",
    "# images\n",
    "from PIL import Image\n",
    "import matplotlib.pyplot as plt\n",
    "import numpy as np\n",
    "\n",
    "# edge-tpu\n",
    "from embedding import kNNEmbeddingEngine\n",
    "\n",
    "## parameter configuration\n",
    "model_path = \"../test_data/mobilenet_v2_1.0_224_quant_edgetpu.tflite\"\n",
    "width = 224\n",
    "height = 224\n",
    "\n",
    "kNN = 3\n",
    "engine = kNNEmbeddingEngine(model_path, kNN)"
   ]
  },
  {
   "cell_type": "code",
   "execution_count": null,
   "metadata": {},
   "outputs": [],
   "source": [
    "## learning\n",
    "fig=plt.figure(figsize=(15, 15))\n",
    "\n",
    "labels = [\"nutella\", \"baseball\", \"sd-card\", \"box\"]\n",
    "columns = len(labels)\n",
    "rows = 1\n",
    "\n",
    "count = 1\n",
    "for label in labels:\n",
    "    # take photo\n",
    "    stream = io.BytesIO()\n",
    "    print(\"Object: \" + label)\n",
    "    print(\"Photo will be taken in 5 seconds!\")\n",
    "    time.sleep(5)\n",
    "    with PiCamera() as camera:\n",
    "        camera.resolution = (640, 480)\n",
    "        camera.capture(stream, format='jpeg')\n",
    "    stream.seek(0)\n",
    "    print(\"Photo was taken!\")\n",
    "\n",
    "    # convert image to PIL\n",
    "    image = Image.open(stream)\n",
    "    \n",
    "    fig.add_subplot(rows, columns, count)\n",
    "    plt.imshow(np.asarray(image))\n",
    "    plt.axis('off')\n",
    "    \n",
    "    # learning engine\n",
    "    emb = engine.DetectWithImage(image)\n",
    "    engine.addEmbedding(emb, label) \n",
    "    count += 1\n"
   ]
  },
  {
   "cell_type": "code",
   "execution_count": null,
   "metadata": {},
   "outputs": [],
   "source": [
    "fig=plt.figure(figsize=(5, 5))\n",
    "## classify\n",
    "# take a photo\n",
    "stream = io.BytesIO()\n",
    "with PiCamera() as camera:\n",
    "    camera.capture(stream, format='jpeg')\n",
    "stream.seek(0)\n",
    "\n",
    "# convert image to PIL\n",
    "image_test = Image.open(stream)\n",
    "plt.imshow(np.asarray(image_test))\n",
    "plt.axis('off')\n",
    "# classify the image\n",
    "emb_test = engine.DetectWithImage(image_test)\n",
    "print(engine.kNNEmbedding(emb_test))"
   ]
  },
  {
   "cell_type": "code",
   "execution_count": null,
   "metadata": {},
   "outputs": [],
   "source": [
    "## classify\n",
    "# take a photo\n",
    "stream = io.BytesIO()\n",
    "with PiCamera() as camera:\n",
    "    camera.capture(stream, format='jpeg')\n",
    "stream.seek(0)\n",
    "\n",
    "# convert image to PIL\n",
    "image_test = Image.open(stream)\n",
    "plt.imshow(np.asarray(image_test))\n",
    "plt.axis('off')\n",
    "# classify the image\n",
    "emb_test = engine.DetectWithImage(image_test)\n",
    "print(engine.kNNEmbedding(emb_test))"
   ]
  },
  {
   "cell_type": "code",
   "execution_count": null,
   "metadata": {},
   "outputs": [],
   "source": [
    "engine.clear()"
   ]
  }
 ],
 "metadata": {
  "kernelspec": {
   "display_name": "Python 3",
   "language": "python",
   "name": "python3"
  },
  "language_info": {
   "codemirror_mode": {
    "name": "ipython",
    "version": 3
   },
   "file_extension": ".py",
   "mimetype": "text/x-python",
   "name": "python",
   "nbconvert_exporter": "python",
   "pygments_lexer": "ipython3",
   "version": "3.7.3"
  }
 },
 "nbformat": 4,
 "nbformat_minor": 4
}
